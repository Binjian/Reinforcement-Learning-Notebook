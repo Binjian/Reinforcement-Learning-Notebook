{
  "nbformat": 4,
  "nbformat_minor": 0,
  "metadata": {
    "colab": {
      "name": "Report.ipynb",
      "version": "0.3.2",
      "views": {},
      "default_view": {},
      "provenance": []
    },
    "kernelspec": {
      "name": "python3",
      "display_name": "Python 3"
    }
  },
  "cells": [
    {
      "metadata": {
        "id": "X8tNDUNHZggo",
        "colab_type": "text"
      },
      "cell_type": "markdown",
      "source": [
        "# Planning and temporal abstraction\n",
        "### Jianing Sun 260791202\n",
        "## Trace 1\n",
        "Implement Dyna-Q and reproduce the blocking maze and shortcut maze experiments (see page 135, 136 in Sutton & Barto) in Pycolab. "
      ]
    },
    {
      "metadata": {
        "id": "8qWhm48CETjH",
        "colab_type": "code",
        "colab": {
          "autoexec": {
            "startup": false,
            "wait_interval": 0
          }
        }
      },
      "cell_type": "code",
      "source": [
        "! pip install git+https://github.com/deepmind/pycolab.git"
      ],
      "execution_count": 0,
      "outputs": []
    },
    {
      "metadata": {
        "id": "gzU2LMC6aUr_",
        "colab_type": "text"
      },
      "cell_type": "markdown",
      "source": [
        "### 1. Create environment based on Pycolab"
      ]
    },
    {
      "metadata": {
        "id": "uffMg2UMEU7W",
        "colab_type": "code",
        "colab": {
          "autoexec": {
            "startup": false,
            "wait_interval": 0
          }
        }
      },
      "cell_type": "code",
      "source": [
        "from __future__ import absolute_import\n",
        "from __future__ import division\n",
        "from __future__ import print_function\n",
        "\n",
        "from pycolab import ascii_art\n",
        "from pycolab.prefab_parts import sprites as prefab_sprites\n",
        "\n",
        "class my_maze:\n",
        "  \n",
        "  def __init__(self):\n",
        "    pass\n",
        "    \n",
        "  def make_game(self,GAME_ART):\n",
        "#       print(self)\n",
        "      return ascii_art.ascii_art_to_game(\n",
        "          GAME_ART, what_lies_beneath=' ',\n",
        "          sprites={'P': PlayerSprite})\n",
        "\n",
        "class PlayerSprite(prefab_sprites.MazeWalker):\n",
        "    \"\"\"A `Sprite` for our player.\n",
        "\n",
        "    This `Sprite` ties actions to going in the four cardinal directions. If we\n",
        "    reach a magical location (in this example, (4, 3)), the agent receives a\n",
        "    reward of 1 and the epsiode terminates.\n",
        "    \"\"\"\n",
        "\n",
        "    def __init__(self, corner, position, character):\n",
        "        \"\"\"Inform superclass that we can't walk through walls.\"\"\"\n",
        "        super(PlayerSprite, self).__init__(\n",
        "            corner, position, character, impassable='#')\n",
        "\n",
        "    def update(self, actions, board, layers, backdrop, things, the_plot):\n",
        "        del layers, backdrop, things  # Unused.\n",
        "\n",
        "        # Apply motion commands.\n",
        "        if actions == 0:  # walk upward?\n",
        "            self._north(board, the_plot)\n",
        "        elif actions == 1:  # walk downward?\n",
        "            self._south(board, the_plot)\n",
        "        elif actions == 2:  # walk leftward?\n",
        "            self._west(board, the_plot)\n",
        "        elif actions == 3:  # walk rightward?\n",
        "            self._east(board, the_plot)\n",
        "\n",
        "        # See if we've found the mystery spot.\n",
        "        if self.position == (1, 9):\n",
        "            the_plot.add_reward(1.0)\n",
        "            the_plot.terminate_episode()"
      ],
      "execution_count": 0,
      "outputs": []
    },
    {
      "metadata": {
        "id": "qedHChZDafrl",
        "colab_type": "text"
      },
      "cell_type": "markdown",
      "source": [
        "### 2. Define blocking maze"
      ]
    },
    {
      "metadata": {
        "id": "o4Cxvb99EcyL",
        "colab_type": "code",
        "colab": {
          "autoexec": {
            "startup": false,
            "wait_interval": 0
          }
        }
      },
      "cell_type": "code",
      "source": [
        "import matplotlib.pyplot as plt\n",
        "import numpy as np\n",
        "def blockingMaze():\n",
        "    \"\"\" draw the maze, set the start and goal state\n",
        "    :return:\n",
        "    \"\"\"\n",
        "    # blocking maze would change to 2 after 1000 steps\n",
        "    Blocking_Maze_1 = ['###########',\n",
        "                       '#         #',\n",
        "                       '#         #',\n",
        "                       '#         #',\n",
        "                       '######### #',\n",
        "                       '#         #',\n",
        "                       '#   P     #',\n",
        "                       '###########']\n",
        "\n",
        "    Blocking_Maze_2 = ['###########',\n",
        "                       '#         #',\n",
        "                       '#         #',\n",
        "                       '#         #',\n",
        "                       '# #########',\n",
        "                       '#         #',\n",
        "                       '#   P     #',\n",
        "                       '###########']\n",
        "\n",
        "    maxTimeSteps = 3000\n",
        "\n",
        "    return Blocking_Maze_1, Blocking_Maze_2, maxTimeSteps"
      ],
      "execution_count": 0,
      "outputs": []
    },
    {
      "metadata": {
        "id": "G3Empqegas_s",
        "colab_type": "text"
      },
      "cell_type": "markdown",
      "source": [
        "### 3. Blocking Maze Dyna-Q & Dyna-Q+ Algorithm"
      ]
    },
    {
      "metadata": {
        "id": "2dIl-6AaEfWm",
        "colab_type": "code",
        "colab": {
          "autoexec": {
            "startup": false,
            "wait_interval": 0
          }
        }
      },
      "cell_type": "code",
      "source": [
        "def epi_greedy(currentState, Q, dynaparams):\n",
        "    \"\"\" one-time trail for decision if explore or exploit\n",
        "    if explore, choose an random action among up, right, left, down\n",
        "    if exploit, choose the greedy policy (action with the max value)\n",
        "    :param currentState:\n",
        "    :param Q: current state-value function\n",
        "    :param dynaparams: epsilon = 0.1, 10% for exploration\n",
        "    :return: return an action\n",
        "    \"\"\"\n",
        "    if np.random.binomial(1, dynaparams.eps) == 1:\n",
        "        # explore\n",
        "        return np.random.choice([0, 1, 2, 3])\n",
        "    else:\n",
        "        # exploit\n",
        "        # pick the slice action value with current state\n",
        "        values = Q[currentState[0], currentState[1], :]\n",
        "        # all the values are same, then randomly choose an action\n",
        "        # return np.random.choice([0, 1, 2, 3])\n",
        "        return np.random.choice([action for action, value in enumerate(values) if value == np.max(values)])\n",
        "\n",
        "\n",
        "def obverse_action(action, game, maze):\n",
        "    \"\"\" action taken observation\n",
        "    :param action: selected action after epsilon greedy\n",
        "    :param game: current environment\n",
        "    :return: reward and next state\n",
        "    \"\"\"\n",
        "    # get next state and current action reward (0 or 1)\n",
        "    obs, reward, game = checkGameOver(game, action, maze)\n",
        "\n",
        "    state_array = np.array(obs.layers['P'], dtype=float)\n",
        "    # TODO: how to get current position directly without searching....\n",
        "    for i in range(len(state_array)):\n",
        "        for j in range(len(state_array[0])):\n",
        "            if state_array[i, j] == 1.0:\n",
        "                next_state = [i, j]\n",
        "                break\n",
        "    return reward, next_state, game\n",
        "\n",
        "\n",
        "def checkGameOver(game, action, maze):\n",
        "    \"\"\" check if the engine arrive the terminal state\n",
        "        if game over, re-generate the game environment and get the observation\n",
        "    :param game: game for checking\n",
        "    :param action: selected action\n",
        "    :param maze: in case need to change the maze1 to maze2\n",
        "    :return: return current observation, reward and the game\n",
        "    \"\"\"\n",
        "    if game.game_over:\n",
        "        game = env.make_game(maze)\n",
        "        obs, reward, gamma = game.its_showtime()\n",
        "        print(\"Game Over\")\n",
        "        # print(game.game_over)\n",
        "        # print(np.array(obs.layers['P'], dtype=np.float))\n",
        "    else:\n",
        "        obs, reward, gamma = game.play(action)\n",
        "\n",
        "    return obs, reward, game\n",
        "\n",
        "class Model_QPlus:\n",
        "    \"\"\" The Dyna-Q+ agent was changed in two other ways.\n",
        "    First, actions that had never been tried before from a state were allowed to be\n",
        "    consider in the model planning step of Dyna;\n",
        "    Second, the initial model for Dyna-Q for such actions was that they would lead\n",
        "    back to the same state with a reward of zero\n",
        "    In short, Dyna-Q+ is Dyna-Q with an exploration bonus that encourages exploration\n",
        "    *** counter: used to measure elapsed time for an action be selected twice\n",
        "    \"\"\"\n",
        "    def __init__(self, rand=np.random, bonus=1e-7):\n",
        "        self.model = dict()\n",
        "        self.rand = rand\n",
        "        self.counter = 0\n",
        "        self.bonus = bonus\n",
        "\n",
        "    def update(self, state, action, next_state, reward):\n",
        "        \"\"\" compared with Dyna-Q, extend our tabular with counter parameter \"\"\"\n",
        "        self.counter += 1  # counter will be auto-incrementing every time\n",
        "        if tuple(state) not in self.model.keys():\n",
        "            self.model[tuple(state)] = dict()\n",
        "            # consider never selected actions for a state\n",
        "            for exploreAction in [0, 1, 2, 3]:\n",
        "                if exploreAction != action:\n",
        "                    # initialize explore actions with rewards 0 and counter 1\n",
        "                    self.model[tuple(state)][exploreAction] = [list(next_state), 0, 1]\n",
        "        # save to Tabular\n",
        "        # once an action has already been selected, its counter with be updated with current counter\n",
        "        self.model[tuple(state)][action] = [list(next_state), reward, self.counter]\n",
        "\n",
        "    def planning(self):\n",
        "        \"\"\" during planning phase, if selected the exploreAction which with counter 1,\n",
        "        reward with plus bonus \"\"\"\n",
        "        stateIndex = self.rand.choice(range(0, len(self.model.keys())))\n",
        "        stateRandom = list(self.model)[stateIndex]\n",
        "        actionIndex = self.rand.choice(range(0, len(self.model[stateRandom].keys())))\n",
        "        actionRandom = list(self.model[stateRandom])[actionIndex]\n",
        "        next_state, reward, counter = self.model[stateRandom][actionRandom]\n",
        "\n",
        "        # higher reward would encourage exploration\n",
        "        reward += self.bonus * np.sqrt((self.counter - counter))\n",
        "        return list(stateRandom), actionRandom, list(next_state), reward\n",
        "\n",
        "\n",
        "class Model:\n",
        "    \"\"\" build the model for planning\n",
        "    update(state, action, next_state, reward): make a look-up tabular model: {(state): {action: [next_state], reward}}\n",
        "                                             ex. {(3, 2): {2: [[3, 3], 0]}}\n",
        "    planning(): return\n",
        "    \"\"\"\n",
        "    def __init__(self, rand=np.random):\n",
        "        self.model = dict()\n",
        "        self.rand = rand\n",
        "\n",
        "    def update(self, state, action, next_state, reward):\n",
        "        # make a look-up tabular model: {(state): {action: [next_state], reward}}\n",
        "        # {(3, 2): {2: [[3, 3], 0]}}\n",
        "        if tuple(state) not in self.model.keys():\n",
        "            self.model[tuple(state)] = dict()\n",
        "        self.model[tuple(state)][action] = [next_state, reward]\n",
        "\n",
        "    def planning(self):\n",
        "        stateIndex = self.rand.choice(range(0, len(self.model.keys())))\n",
        "        stateRandom = list(self.model)[stateIndex]\n",
        "        actionIndex = self.rand.choice(range(0, len(self.model[stateRandom].keys())))\n",
        "        actionRandom = list(self.model[stateRandom])[actionIndex]\n",
        "        next_state, reward = self.model[stateRandom][actionRandom]\n",
        "\n",
        "        return list(stateRandom), actionRandom, list(next_state), reward\n",
        "\n",
        "\n",
        "def dyna_Q(Q, model, dynaparams, game, maze):\n",
        "    \"\"\" Dyna Q algorithm implement\n",
        "    :param Q: state-value function\n",
        "    :param model: model for planning\n",
        "    :param dynaparams: hyper-parameters\n",
        "    :param maze: current environment\n",
        "    :return:\n",
        "    \"\"\"\n",
        "    # every time start from the START_STATE\n",
        "    currentState = START_STATE\n",
        "    steps = 0\n",
        "\n",
        "    \"\"\" stop until arrive goal state \"\"\"\n",
        "    while currentState != STOP_STATE:\n",
        "        steps += 1\n",
        "        \"\"\" epsilon-greedy \"\"\"\n",
        "        a = epi_greedy(currentState, Q, dynaparams)\n",
        "        # execute action a; obverse resultant reward, R, and state, S'\n",
        "        r, s_, game = obverse_action(a, game, maze)\n",
        "\n",
        "        if r is None:  # not goal state\n",
        "            r = 0.0\n",
        "\n",
        "        # print(\"reward: {}. newState: {}.\".format(r, s_))\n",
        "        \"\"\" Q-learning update: direct RL\"\"\"\n",
        "        Q[currentState[0], currentState[1], a] += \\\n",
        "                    dynaparams.alpha * (r + dynaparams.gamma * np.max(Q[s_[0], s_[1], :]) -\n",
        "                    Q[currentState[0], currentState[1], a])\n",
        "        \"\"\" deterministic env, update the model \"\"\"\n",
        "        model.update(currentState, a, s_, r)\n",
        "\n",
        "        \"\"\" model planning: repeat n steps, Q function update through planning \"\"\"\n",
        "        for i in range(0, dynaparams.planSteps):\n",
        "            stateRandom, actionRandom, next_state, reward = model.planning()\n",
        "\n",
        "            Q[stateRandom[0], stateRandom[1], actionRandom] += dynaparams.alpha * (reward + dynaparams.gamma *\n",
        "                         np.max(Q[next_state[0], next_state[1], :] - Q[stateRandom[0], stateRandom[1], actionRandom]))\n",
        "        currentState = s_\n",
        "\n",
        "        if steps > maxTimeSteps:\n",
        "            print(maxTimeSteps)\n",
        "            break\n",
        "\n",
        "    return steps\n",
        "\n",
        "\n",
        "def getReward(Q, dynaparams, game, maxTimeSteps, steps2change, maze):\n",
        "    \"\"\" calculate cumulative reward\n",
        "    Args:\n",
        "        Q: initial state-value function\n",
        "        dynaparams: hyperparameters for dyna algorithm\n",
        "        maze: environment input in order to get the right next state (used later in dyna algorithm function)\n",
        "        max_timesteps, steps2change set up same as implementBM\n",
        "    Return:\n",
        "        return acclimatized reward\n",
        "    \"\"\"\n",
        "    # accumulate reward for 3000/6000 steps (same value but not the same with time steps) with dyna algorithm\n",
        "    oneEpisodeSteps = maxTimeSteps\n",
        "\n",
        "    rewards = np.zeros((2, oneEpisodeSteps))\n",
        "\n",
        "    for times in range(0, dynaparams.episodes):\n",
        "\n",
        "        model = [Model(), Model_QPlus()]\n",
        "\n",
        "        \"\"\"initialize rewards for 3000 steps\"\"\"\n",
        "        # rewards used to get the average of cumulative rewards\n",
        "        rewards_ = np.zeros((2, oneEpisodeSteps))\n",
        "\n",
        "        newQ = [np.copy(Q), np.copy(Q)]\n",
        "        # print(newQ)\n",
        "        for i in range(0, len(dynaparams.method)):\n",
        "\n",
        "            # steps save the current step index, lastSteps save the last step index for arriving goal state\n",
        "            steps = 0\n",
        "            lastSteps = 0\n",
        "\n",
        "            \"\"\" for one episode \"\"\"\n",
        "            while steps < oneEpisodeSteps:\n",
        "                # how many steps used for arriving the goal state\n",
        "                # if maze == Maze1:\n",
        "                #     print(\"Maze1\")\n",
        "                # elif maze == Maze2:\n",
        "                #     print(\"Maze2\")\n",
        "                steps += dyna_Q(newQ[i], model[i], dynaparams, game, maze)\n",
        "                # in case bigger than the max value\n",
        "                steps_ = min(steps, oneEpisodeSteps - 1)\n",
        "                # print(\"steps\", steps)\n",
        "\n",
        "                \"\"\" reward accumulation: value between two successive steps index, set as the value of last step\n",
        "                        for new steps index, plus one \"\"\"\n",
        "                rewards_[i, lastSteps: steps_] = rewards_[i, lastSteps]\n",
        "                rewards_[i, steps_] = rewards_[i, lastSteps] + 1\n",
        "                lastSteps = steps\n",
        "\n",
        "                # more than 1000 steps, change the environment to Maze2\n",
        "                if steps > steps2change:\n",
        "                    maze = Maze2\n",
        "                    game = env.make_game(maze)\n",
        "                    game.its_showtime()\n",
        "                else:\n",
        "                    maze = Maze1\n",
        "                    game = env.make_game(maze)\n",
        "                    game.its_showtime()\n",
        "\n",
        "        # get the final averaged rewards\n",
        "        rewards += rewards_\n",
        "\n",
        "    # final rewards\n",
        "    rewards /= dynaparams.episodes\n",
        "    return rewards\n",
        "\n",
        "\n",
        "def implementBM():\n",
        "\n",
        "    \"\"\" implement blocking maze experiment with first 1000 steps in Maze1 last 2000 steps in Maze2\n",
        "    Arg:\n",
        "        maze:input maze, make the environment based on the maze\n",
        "    Func: setup initial parameters (width, height, max steps and steps to change)\n",
        "          modify dyna algorithm parameters (alpha for Q-learning, planning steps)\n",
        "          calculate the cumulative reward and plot final figure\n",
        "    \"\"\"\n",
        "    # initialize a maze and get its shape parameters\n",
        "    maze = Maze1\n",
        "    maze_height = len(maze)\n",
        "    maze_width = len(maze[0])\n",
        "    # make an environment (game)\n",
        "    game = env.make_game(maze)\n",
        "    game.its_showtime()\n",
        "    # initialize state value function with height, width, action numbers of the maze\n",
        "    # Q = np.zeros((maze_height, maze_width, 4))\n",
        "    Q = np.random.rand(maze_height, maze_width, 4)\n",
        "\n",
        "    # define max time steps\n",
        "    # max_timesteps = 3000\n",
        "\n",
        "    # which step to change the maze\n",
        "    steps2change = 1000\n",
        "\n",
        "    # reset hyper-parameters\n",
        "    dynaparams = DynaParams()\n",
        "    dynaparams.alpha = 0.7\n",
        "    dynaparams.planSteps = 5  # 15 -> 25\n",
        "    dynaparams.eps = 0.1\n",
        "\n",
        "    \"\"\" get the cumulative reward used for plotting and change the maze after 1000 time steps \"\"\"\n",
        "    rewards = getReward(Q, dynaparams, game, maxTimeSteps, steps2change, maze)\n",
        "\n",
        "    \"\"\" plot figure of example 8.2 \"\"\"\n",
        "    plt.figure(1)\n",
        "#     for i in range(0, 2):\n",
        "#         plt.plot(range(0, maxTimeSteps), rewards[i, :], label=dynaparams.method[i])\n",
        "    plt.plot(range(0, maxTimeSteps), rewards[0, :], label=dynaparams.method[0])\n",
        "    plt.xlabel('Time Steps')\n",
        "    plt.ylabel('Cumulative reward')\n",
        "    plt.legend()\n",
        "\n",
        "\n",
        "class DynaParams:\n",
        "    \"\"\" hyperparameters for dyna algorithm\n",
        "    gamma: discount factor\n",
        "    epsilon: eps-greedy, which means with epsilon percent to explore\n",
        "    planSteps: how many steps for model planning\n",
        "    alpha: learning rate for q-learning\n",
        "    episodes: in blocking maze exp, no axis for episode, we can divide final\n",
        "             cumulative reward by the number of episodes or just single episode\n",
        "    \"\"\"\n",
        "    def __init__(self):\n",
        "        # discount factor\n",
        "        self.gamma = 0.95\n",
        "\n",
        "        # prob of exploration\n",
        "        self.eps = 0.2\n",
        "\n",
        "        # n steps for planning\n",
        "        self.planSteps = 50\n",
        "\n",
        "        # step size for Q-learning (alpha)\n",
        "        self.alpha = 0.5\n",
        "\n",
        "        # average over episodes\n",
        "        self.episodes = 20\n",
        "\n",
        "        # dyna-q and dyna-q+ methods\n",
        "        self.method = ['dyna-q', 'dyna-q+']"
      ],
      "execution_count": 0,
      "outputs": []
    },
    {
      "metadata": {
        "id": "izZ4gGZ2a1nW",
        "colab_type": "text"
      },
      "cell_type": "markdown",
      "source": [
        "### 4. Blocking Maze Experiences\n",
        "#### 1) Implement Dyna-Q "
      ]
    },
    {
      "metadata": {
        "id": "hHmcOkQfEg2l",
        "colab_type": "code",
        "colab": {
          "autoexec": {
            "startup": false,
            "wait_interval": 0
          },
          "output_extras": [
            {
              "item_id": 10
            },
            {
              "item_id": 11
            }
          ],
          "base_uri": "https://localhost:8080/",
          "height": 531
        },
        "outputId": "69228872-f85a-458e-bead-07de4b33caac",
        "executionInfo": {
          "status": "ok",
          "timestamp": 1519681489925,
          "user_tz": 300,
          "elapsed": 56724,
          "user": {
            "displayName": "Jianing Sun",
            "photoUrl": "https://lh3.googleusercontent.com/a/default-user=s128",
            "userId": "108422348468847234457"
          }
        }
      },
      "cell_type": "code",
      "source": [
        "env = my_maze()\n",
        "START_STATE = [6, 4]\n",
        "STOP_STATE = [1, 9]\n",
        "Maze1, Maze2, maxTimeSteps = blockingMaze()\n",
        "implementBM()\n",
        "plt.show()"
      ],
      "execution_count": 96,
      "outputs": [
        {
          "output_type": "stream",
          "text": [
            "3000\n",
            "3000\n",
            "3000\n",
            "3000\n",
            "3000\n",
            "3000\n",
            "3000\n",
            "3000\n",
            "3000\n",
            "3000\n"
          ],
          "name": "stdout"
        },
        {
          "output_type": "display_data",
          "data": {
            "image/png": "[encoded data removed]",
            "text/plain": [
              "<matplotlib.figure.Figure at 0x7fdebeac0ba8>"
            ]
          },
          "metadata": {
            "tags": []
          }
        }
      ]
    },
    {
      "metadata": {
        "id": "AoxN09sK6k2i",
        "colab_type": "text"
      },
      "cell_type": "markdown",
      "source": [
        "#### 2) Implement Dyna-Q and Dyna-Q+"
      ]
    },
    {
      "metadata": {
        "id": "rJCpBiZ3Af4n",
        "colab_type": "code",
        "colab": {
          "autoexec": {
            "startup": false,
            "wait_interval": 0
          },
          "output_extras": [
            {
              "item_id": 4
            },
            {
              "item_id": 5
            }
          ],
          "base_uri": "https://localhost:8080/",
          "height": 429
        },
        "outputId": "56abd622-947c-427d-9532-b78b0baacbb3",
        "executionInfo": {
          "status": "ok",
          "timestamp": 1519681260536,
          "user_tz": 300,
          "elapsed": 54774,
          "user": {
            "displayName": "Jianing Sun",
            "photoUrl": "https://lh3.googleusercontent.com/a/default-user=s128",
            "userId": "108422348468847234457"
          }
        }
      },
      "cell_type": "code",
      "source": [
        "env = my_maze()\n",
        "START_STATE = [6, 4]\n",
        "STOP_STATE = [1, 9]\n",
        "Maze1, Maze2, maxTimeSteps = blockingMaze()\n",
        "implementBM()\n",
        "plt.show()"
      ],
      "execution_count": 92,
      "outputs": [
        {
          "output_type": "stream",
          "text": [
            "3000\n",
            "3000\n",
            "3000\n",
            "3000\n"
          ],
          "name": "stdout"
        },
        {
          "output_type": "display_data",
          "data": {
            "image/png": "[encoded data removed]",
            "text/plain": [
              "<matplotlib.figure.Figure at 0x7fdebec644a8>"
            ]
          },
          "metadata": {
            "tags": []
          }
        }
      ]
    },
    {
      "metadata": {
        "id": "J_9GMiUuEUcA",
        "colab_type": "text"
      },
      "cell_type": "markdown",
      "source": [
        "```\n",
        "Dyna-Q+ is Dyna-Q with an exploration bonus that encourages exploration. From the figure above it is clear that Dyna-Q+ performs much better after the model changing.\n",
        "```"
      ]
    },
    {
      "metadata": {
        "id": "Zq6BH8eHEUEa",
        "colab_type": "code",
        "colab": {
          "autoexec": {
            "startup": false,
            "wait_interval": 0
          }
        }
      },
      "cell_type": "code",
      "source": [
        ""
      ],
      "execution_count": 0,
      "outputs": []
    },
    {
      "metadata": {
        "id": "WqeiMnA36Ugq",
        "colab_type": "text"
      },
      "cell_type": "markdown",
      "source": [
        "### 5. Shortcut Maze Experiments\n",
        "#### 1) Define shortcut maze environment"
      ]
    },
    {
      "metadata": {
        "id": "ZmVpAMrj6zZK",
        "colab_type": "code",
        "colab": {
          "autoexec": {
            "startup": false,
            "wait_interval": 0
          }
        }
      },
      "cell_type": "code",
      "source": [
        "def shortcurMaze():\n",
        "    \"\"\" draw the maze, set the start and goal state\n",
        "    :return:\n",
        "    \"\"\"\n",
        "    # blocking maze would change to 2 after 1000 steps\n",
        "    Shortcut_Maze_1 = ['###########',\n",
        "                       '#         #',\n",
        "                       '#         #',\n",
        "                       '#         #',\n",
        "                       '# #########',\n",
        "                       '#         #',\n",
        "                       '#   P     #',\n",
        "                       '###########']\n",
        "\n",
        "    Shortcut_Maze_2 = ['###########',\n",
        "                       '#         #',\n",
        "                       '#         #',\n",
        "                       '#         #',\n",
        "                       '# ####### #',\n",
        "                       '#         #',\n",
        "                       '#   P     #',\n",
        "                       '###########']\n",
        "\n",
        "    maxTimeSteps = 6000\n",
        "\n",
        "    return Shortcut_Maze_1, Shortcut_Maze_2, maxTimeSteps\n",
        "\n",
        "\n",
        "def implementSM():\n",
        "\n",
        "    maze = Maze1\n",
        "    maze_height = len(maze)\n",
        "    maze_width = len(maze[0])\n",
        "\n",
        "    game = env.make_game(maze)\n",
        "    game.its_showtime()\n",
        "\n",
        "    Q = np.random.rand(maze_height, maze_width, 4)\n",
        "\n",
        "    steps2change = 3000\n",
        "\n",
        "    dynaparams = DynaParams()\n",
        "    dynaparams.alpha = 0.7\n",
        "    dynaparams.planSteps = 5\n",
        "    dynaparams.eps = 0.1\n",
        "\n",
        "    \"\"\" get the cumulative reward used for plotting and change the maze after 1000 time steps \"\"\"\n",
        "    rewards = getReward(Q, dynaparams, game, maxTimeSteps, steps2change, maze)\n",
        "\n",
        "    \"\"\" plot figure of example 8.3 \"\"\"\n",
        "    plt.figure(2)\n",
        "    for i in range(0, 2):\n",
        "        plt.plot(range(0, maxTimeSteps), rewards[i, :], label=dynaparams.method[i])\n",
        "\n",
        "    plt.xlabel('Time Steps')\n",
        "    plt.ylabel('Cumulative reward')\n",
        "    plt.legend()"
      ],
      "execution_count": 0,
      "outputs": []
    },
    {
      "metadata": {
        "id": "5OnYEVSG69TK",
        "colab_type": "text"
      },
      "cell_type": "markdown",
      "source": [
        "#### 2) Implement Dyna-Q and Dyna-Q+ "
      ]
    },
    {
      "metadata": {
        "id": "XSSJks7I7LEN",
        "colab_type": "code",
        "colab": {
          "autoexec": {
            "startup": false,
            "wait_interval": 0
          },
          "output_extras": [
            {
              "item_id": 1
            },
            {
              "item_id": 2
            }
          ],
          "base_uri": "https://localhost:8080/",
          "height": 378
        },
        "outputId": "2724c036-8fa0-4ce8-a982-30f3c0458719",
        "executionInfo": {
          "status": "ok",
          "timestamp": 1519681430864,
          "user_tz": 300,
          "elapsed": 170309,
          "user": {
            "displayName": "Jianing Sun",
            "photoUrl": "https://lh3.googleusercontent.com/a/default-user=s128",
            "userId": "108422348468847234457"
          }
        }
      },
      "cell_type": "code",
      "source": [
        "Maze1, Maze2, maxTimeSteps = shortcurMaze()\n",
        "implementSM()\n",
        "\n",
        "plt.show()"
      ],
      "execution_count": 93,
      "outputs": [
        {
          "output_type": "stream",
          "text": [
            "6000\n"
          ],
          "name": "stdout"
        },
        {
          "output_type": "display_data",
          "data": {
            "image/png": "[encoded data removed]",
            "text/plain": [
              "<matplotlib.figure.Figure at 0x7fdebee993c8>"
            ]
          },
          "metadata": {
            "tags": []
          }
        }
      ]
    },
    {
      "metadata": {
        "id": "QZMziAyGH5zw",
        "colab_type": "text"
      },
      "cell_type": "markdown",
      "source": [
        "```\n",
        "The general problem for implementing and comparing Dyna-Q and Dyna-Q+ here is the conflict between exploration and exploitation. We want the agent to explore to find changes in the nvironment, but not so much that performance is greatly degraded. Therefore, more experiments with different hyperparameter is necessary.  \n",
        "```\n",
        "```\n",
        "The Dyna-Q+ agent did solve the shortcut maze problem. This agent keeps track for each state-action pair of how many time steps have elapsed since the pair was last tried in a real interaction with the environment. To encourage behavior that tests long-untried actions, a special \"bonus reward\" is given on simulated experiences involving these actions.\n",
        "```"
      ]
    },
    {
      "metadata": {
        "id": "L9Yxqm_3iwIK",
        "colab_type": "text"
      },
      "cell_type": "markdown",
      "source": [
        "## Dyna-Q with Experience Replay\n",
        "&nbsp;&nbsp;&nbsp;&nbsp; Experience replay can be interpreted as a planning method, because it is comparable to Dyna with a look-up table. However, the key difference is that Dyna only samples *states*, while experience replay samples *full* transitions, which may be biased and potentially harmful. The implementation of experience replay in this case is to replace the direct RL Q-learning update to buffer Q-learning. While for the Q-learning update in model planning part still remain using original Dyna algorithm.  \n",
        "&nbsp;&nbsp;&nbsp;&nbsp; The idea of experience replay is to train the agent with the transitions sampled from a buffer of previously experienced transitions. A transition is defined to be a quadruple `(s,a,r,s')`, where `s` is the state, `a` is the action, `r` is the received reward after executing the action `a` in the state `s` and `s'` is the next state. At each time step, the current transition is added to the replay buffer and some transitions are sampled from the replay buffer to train the agent.  \n",
        " "
      ]
    },
    {
      "metadata": {
        "id": "oJ7NDy1KrTgG",
        "colab_type": "text"
      },
      "cell_type": "markdown",
      "source": [
        "| Dyna-Q with **experience replay** algorithm        | \n",
        "| -------------                            |\n",
        "| Initialize `Q(s,a)` and Model`(s,a)` for all $s\\in S$ and $a\\in A(s)$      |  \n",
        "| Initialize the Replay Buffer `M`    |     \n",
        "| Get the initial state `s`        |\n",
        "| while s is not the terminal state do:|\n",
        "|&nbsp;&nbsp;&nbsp;&nbsp;select an action `a` according to current value function `q`    |\n",
        "|&nbsp;&nbsp;&nbsp;&nbsp;Execuate the action `a`, get the reward `r` and next state `s'`   |\n",
        "|&nbsp;&nbsp;&nbsp;&nbsp;**Store the transition `(s,a,r,s')` into the replay buffer `M`**|\n",
        "|&nbsp;&nbsp;&nbsp;&nbsp;**Sample a batch of transitions $\\epsilon$ from `M`**|\n",
        "|&nbsp;&nbsp;&nbsp;&nbsp;Update the value function `q` with $\\epsilon$   |\n",
        "|&nbsp;&nbsp;&nbsp;&nbsp;`s=s'`|\n",
        "|&nbsp;&nbsp;&nbsp;&nbsp;Model`(s,a)` $\\leftarrow $`r, s'`|  \n",
        "|&nbsp;&nbsp;&nbsp;&nbsp;Repeat n times:                  |\n",
        "|&nbsp;&nbsp;&nbsp;&nbsp;&nbsp;&nbsp;&nbsp;&nbsp;`s` <-- random previously observed state|\n",
        "|&nbsp;&nbsp;&nbsp;&nbsp;&nbsp;&nbsp;&nbsp;&nbsp;`a` <-- random action previously taken in `s`|\n",
        "|&nbsp;&nbsp;&nbsp;&nbsp;&nbsp;&nbsp;&nbsp;&nbsp;`r,s'` <-- Model(s,a)|\n",
        "|&nbsp;&nbsp;&nbsp;&nbsp;&nbsp;&nbsp;&nbsp;&nbsp;q(s,a) <-- q(s,a) + alpha[r + gamma]max_a * `q(s',a)` - `q(s,a)`|\n",
        "|&nbsp;&nbsp;&nbsp;&nbsp;End|\n",
        "|End|\n",
        "\n"
      ]
    },
    {
      "metadata": {
        "id": "IiCIGVE8sqf-",
        "colab_type": "code",
        "colab": {
          "autoexec": {
            "startup": false,
            "wait_interval": 0
          }
        }
      },
      "cell_type": "code",
      "source": [
        ""
      ],
      "execution_count": 0,
      "outputs": []
    }
  ]
}