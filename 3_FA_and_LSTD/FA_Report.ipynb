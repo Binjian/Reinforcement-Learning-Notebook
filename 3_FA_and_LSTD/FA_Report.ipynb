{
  "nbformat": 4,
  "nbformat_minor": 0,
  "metadata": {
    "colab": {
      "name": "FA_Report.ipynb",
      "version": "0.3.2",
      "views": {},
      "default_view": {},
      "provenance": [],
      "collapsed_sections": []
    },
    "kernelspec": {
      "name": "python3",
      "display_name": "Python 3"
    }
  },
  "cells": [
    {
      "metadata": {
        "id": "UWQe5DorKe4m",
        "colab_type": "text"
      },
      "cell_type": "markdown",
      "source": [
        "### Function Approximation in RL\n",
        "### 260791202   Jianing Sun\n",
        "## Track 1\n",
        "### Reproduce five-states and Boyan's Chain experiments by LSTD(lambda) with off-line and recursive formulations"
      ]
    },
    {
      "metadata": {
        "id": "zt7EfT4OKwpb",
        "colab_type": "text"
      },
      "cell_type": "markdown",
      "source": [
        "### 1. Boyan's Chain Experiments\n",
        "### 1.1 Environment"
      ]
    },
    {
      "metadata": {
        "id": "4Ut785HlJqwN",
        "colab_type": "code",
        "colab": {
          "autoexec": {
            "startup": false,
            "wait_interval": 0
          },
          "output_extras": [
            {
              "item_id": 5
            }
          ],
          "base_uri": "https://localhost:8080/",
          "height": 156
        },
        "outputId": "b88e8240-903a-46b5-c156-2394515dc7ee",
        "executionInfo": {
          "status": "ok",
          "timestamp": 1521494845552,
          "user_tz": 240,
          "elapsed": 4283,
          "user": {
            "displayName": "Jianing Sun",
            "photoUrl": "https://lh3.googleusercontent.com/a/default-user=s128",
            "userId": "108422348468847234457"
          }
        }
      },
      "cell_type": "code",
      "source": [
        "! pip install git+https://github.com/deepmind/pycolab.git"
      ],
      "execution_count": 3,
      "outputs": [
        {
          "output_type": "stream",
          "text": [
            "Collecting git+https://github.com/deepmind/pycolab.git\r\n",
            "  Cloning https://github.com/deepmind/pycolab.git to /tmp/pip-yqqtq1e7-build\n",
            "Requirement already satisfied: numpy>=1.9 in /usr/local/lib/python3.6/dist-packages (from pycolab==1.0)\n",
            "Requirement already satisfied: six in /usr/local/lib/python3.6/dist-packages (from pycolab==1.0)\n",
            "Installing collected packages: pycolab\n",
            "  Running setup.py install for pycolab ... \u001b[?25l-\b \b\\\b \bdone\n",
            "\u001b[?25hSuccessfully installed pycolab-1.0\n"
          ],
          "name": "stdout"
        }
      ]
    },
    {
      "metadata": {
        "id": "n4bhx2VzKL_q",
        "colab_type": "code",
        "colab": {
          "autoexec": {
            "startup": false,
            "wait_interval": 0
          }
        }
      },
      "cell_type": "code",
      "source": [
        "import numpy as np\n",
        "import pycolab\n",
        "from pycolab import ascii_art\n",
        "from pycolab.prefab_parts import sprites as prefab_sprites\n",
        "import matplotlib.pyplot as plt"
      ],
      "execution_count": 0,
      "outputs": []
    },
    {
      "metadata": {
        "id": "t8t9kEu7JuE2",
        "colab_type": "code",
        "colab": {
          "autoexec": {
            "startup": false,
            "wait_interval": 0
          }
        }
      },
      "cell_type": "code",
      "source": [
        "def make_BoyanChain(art):\n",
        "    return pycolab.ascii_art.ascii_art_to_game(art, what_lies_beneath=' ', sprites={'P': PlayerSprite_BoyanChain})\n",
        "\n",
        "class PlayerSprite_BoyanChain(prefab_sprites.MazeWalker):\n",
        "\n",
        "    def __init__(self, corner, position, character):\n",
        "        super(PlayerSprite_BoyanChain, self).__init__(corner, position, character, impassable='#')\n",
        "\n",
        "    def update(self, actions, board, layers, backdrop, things, the_plot):\n",
        "        del backdrop, things  # Unused.\n",
        "        _, position = self.position\n",
        "\n",
        "        if actions == 0:  \n",
        "            if layers[\"G\"][0, position + 1]:\n",
        "                self._east(board, the_plot) \n",
        "                the_plot.add_reward(-2.0)\n",
        "            else:\n",
        "                if np.random.rand() > 0.5:  \n",
        "                    self._east(board, the_plot)\n",
        "                else:  \n",
        "                    self._east(board, the_plot)\n",
        "                    self._east(board, the_plot)\n",
        "\n",
        "                the_plot.add_reward(-3.0)\n",
        "\n",
        "        if layers[\"G\"][self.position]:\n",
        "            the_plot.terminate_episode()"
      ],
      "execution_count": 0,
      "outputs": []
    },
    {
      "metadata": {
        "id": "KRX9bUwlKYnU",
        "colab_type": "text"
      },
      "cell_type": "markdown",
      "source": [
        "### 1.2 Off-line LSTD(lambda) Experiment"
      ]
    },
    {
      "metadata": {
        "id": "8nPtaG7ILJQC",
        "colab_type": "code",
        "colab": {
          "autoexec": {
            "startup": false,
            "wait_interval": 0
          }
        }
      },
      "cell_type": "code",
      "source": [
        "class lstd_params:\n",
        "    ''' hyperparameters for LSTD algorithms\n",
        "    d: length of feature vector for states, in boyan chain env, d = 4\n",
        "    gamma: discount factor\n",
        "    epsilon: initial A = epsilon * I\n",
        "    n: number of trajectory\n",
        "    '''\n",
        "    def __init__(self):\n",
        "        self.d = 4\n",
        "\n",
        "        self.gamma = 1\n",
        "\n",
        "        self.epsilon = 0.01\n",
        "\n",
        "        self.n = 3000\n",
        "\n",
        "        self.la = 0.8"
      ],
      "execution_count": 0,
      "outputs": []
    },
    {
      "metadata": {
        "id": "npk6-8ijLMVH",
        "colab_type": "code",
        "colab": {
          "autoexec": {
            "startup": false,
            "wait_interval": 0
          }
        }
      },
      "cell_type": "code",
      "source": [
        "def RMS(l1, l2):\n",
        "    l = np.array(l1) - np.array(l2)\n",
        "    rms = np.sqrt(np.sum(l*l) / len(l))\n",
        "    return rms"
      ],
      "execution_count": 0,
      "outputs": []
    },
    {
      "metadata": {
        "id": "tRTa4hl9LRBx",
        "colab_type": "code",
        "colab": {
          "autoexec": {
            "startup": false,
            "wait_interval": 0
          }
        }
      },
      "cell_type": "code",
      "source": [
        "def lstd_offline(lstdparams, state_feature, V_pi):\n",
        "    A = np.eye(lstdparams.d)\n",
        "    b = np.zeros(lstdparams.d)\n",
        "    terminal_state = 12\n",
        "    rms = np.zeros(lstdparams.n)\n",
        "    for n in range(0, lstdparams.n):\n",
        "        x = 0\n",
        "        z = state_feature[0]\n",
        "        game = make_BoyanChain(BOYAN_CHAIN)\n",
        "        game.its_showtime()\n",
        "        while x is not terminal_state:\n",
        "            obs, reward, gamma = game.play(0)\n",
        "            state_array = np.array(obs.layers['P'], dtype=int)\n",
        "            _x = list(state_array[0]).index(1)\n",
        "            # lstd update\n",
        "            A += np.outer(z, (np.array(state_feature[x])\n",
        "                                - lstdparams.gamma * np.array(state_feature[_x])).T)\n",
        "            b += np.array(z) * reward\n",
        "            _z = lstdparams.la * np.array(z) + state_feature[_x]\n",
        "            x = _x\n",
        "            z = _z\n",
        "        theta = np.dot(np.linalg.pinv(A), b)\n",
        "        rms[n] = RMS(theta, V_pi)\n",
        "        # print(theta)\n",
        "    return theta, rms"
      ],
      "execution_count": 0,
      "outputs": []
    },
    {
      "metadata": {
        "id": "jYR6T3wTLVg8",
        "colab_type": "code",
        "colab": {
          "autoexec": {
            "startup": false,
            "wait_interval": 0
          }
        }
      },
      "cell_type": "code",
      "source": [
        "def implementBoyanChain():\n",
        "\n",
        "    # initialize environment as 13-states boyan chain\n",
        "    env = BOYAN_CHAIN\n",
        "    env_width = len(BOYAN_CHAIN[0])\n",
        "    game = make_BoyanChain(BOYAN_CHAIN)\n",
        "\n",
        "    # initialize A, b, z\n",
        "    lstdparams = lstd_params()\n",
        "    lstdparams.d = 4\n",
        "\n",
        "    V_pi = [-24, -16, -8, 0]\n",
        "    state_feature = [[1,    0,    0,    0   ],\n",
        "                     [0.75, 0.25, 0,    0   ],\n",
        "                     [0.5,  0.5,  0,    0   ],\n",
        "                     [0.25, 0.75, 0,    0   ],\n",
        "                     [0,    1,    0,    0   ],\n",
        "                     [0,    0.75, 0.25, 0   ],\n",
        "                     [0,    0.5,  0.5,  0   ],\n",
        "                     [0,    0.25, 0.75, 0   ],\n",
        "                     [0,    0,    1,    0   ],\n",
        "                     [0,    0,    0.75, 0.25],\n",
        "                     [0,    0,    0.5,  0.5 ],\n",
        "                     [0,    0,    0.25, 0.75],\n",
        "                     [0,    0,    0,    0   ]]\n",
        "    theta, rms = lstd_offline(lstdparams, state_feature, V_pi)\n",
        "\n",
        "    print('rms:{}.'.format(rms))\n",
        "    print('theta:{}.'.format(theta))\n",
        "    plt.figure(1)\n",
        "    plt.plot(range(0, lstdparams.n), rms[:])\n",
        "    plt.xlabel('trajectory number')\n",
        "    plt.ylabel('RMS error')\n",
        "    plt.show()\n",
        "    "
      ],
      "execution_count": 0,
      "outputs": []
    },
    {
      "metadata": {
        "id": "FVRNWGQrLftv",
        "colab_type": "code",
        "colab": {
          "autoexec": {
            "startup": false,
            "wait_interval": 0
          },
          "output_extras": [
            {
              "item_id": 1
            },
            {
              "item_id": 2
            }
          ],
          "base_uri": "https://localhost:8080/",
          "height": 395
        },
        "outputId": "24259548-770f-48d3-d368-82605e45f693",
        "executionInfo": {
          "status": "ok",
          "timestamp": 1521495257302,
          "user_tz": 240,
          "elapsed": 4978,
          "user": {
            "displayName": "Jianing Sun",
            "photoUrl": "https://lh3.googleusercontent.com/a/default-user=s128",
            "userId": "108422348468847234457"
          }
        }
      },
      "cell_type": "code",
      "source": [
        "BOYAN_CHAIN = ['P           G']\n",
        "implementBoyanChain()"
      ],
      "execution_count": 17,
      "outputs": [
        {
          "output_type": "stream",
          "text": [
            "rms:[5.91862164 3.94546097 2.1533095  ... 0.02319476 0.02319821 0.02271203].\n",
            "theta:[-24.01184862 -16.00586124  -7.96683989  -0.02808929].\n"
          ],
          "name": "stdout"
        },
        {
          "output_type": "display_data",
          "data": {
            "image/png": "[encoded data removed]",
            "text/plain": [
              "<matplotlib.figure.Figure at 0x7f58cee1dfd0>"
            ]
          },
          "metadata": {
            "tags": []
          }
        }
      ]
    },
    {
      "metadata": {
        "id": "dtP8M4V7L1Cv",
        "colab_type": "text"
      },
      "cell_type": "markdown",
      "source": [
        "After training of 3000 independent trajectories, final theta is, [-24.01184862 -16.00586124  -7.96683989  -0.02808929]. Compared with given optimal theta: [-24, -16, -8, 0], the RMS is only 0.0227 in the end.\n"
      ]
    },
    {
      "metadata": {
        "id": "UBNKqQFqMi5G",
        "colab_type": "text"
      },
      "cell_type": "markdown",
      "source": [
        "### 1.3 Recursive LSTD(lambda) Experiment\n"
      ]
    },
    {
      "metadata": {
        "id": "m8YoF8J8Mmrr",
        "colab_type": "code",
        "colab": {
          "autoexec": {
            "startup": false,
            "wait_interval": 0
          }
        }
      },
      "cell_type": "code",
      "source": [
        "def lstd_recursive(lstdparams, state_feature, V_pi):\n",
        "    A_re = np.eye(lstdparams.d) / lstdparams.epsilon\n",
        "    b = np.zeros(lstdparams.d)\n",
        "    terminal_state = 12\n",
        "    rms = np.zeros(lstdparams.n)\n",
        "    for n in range(0, lstdparams.n):\n",
        "        s = 0\n",
        "        x = state_feature[s]\n",
        "        z = x\n",
        "        game = make_BoyanChain(BOYAN_CHAIN)\n",
        "        game.its_showtime()\n",
        "        while s is not terminal_state:\n",
        "            obs, reward, gamma = game.play(0)\n",
        "            state_array = np.array(obs.layers['P'], dtype=int)\n",
        "            _s = list(state_array[0]).index(1)\n",
        "            _x = state_feature[_s]\n",
        "            v = np.dot(A_re.T, (np.array(x) - lstdparams.gamma * np.array(_x))).reshape(lstdparams.d, 1)\n",
        "            A_re -= A_re @ np.array(z).reshape(lstdparams.d, 1) @ v.T / (1 + v.T @ z)\n",
        "            b += np.array(z) * reward\n",
        "            theta = np.dot(A_re, b)\n",
        "            z = lstdparams.la * np.array(z) + _x\n",
        "            s = _s\n",
        "            x = _x\n",
        "        rms[n] = RMS(theta, V_pi)\n",
        "    return theta, rms"
      ],
      "execution_count": 0,
      "outputs": []
    },
    {
      "metadata": {
        "id": "V9wpGwSXM3T0",
        "colab_type": "code",
        "colab": {
          "autoexec": {
            "startup": false,
            "wait_interval": 0
          }
        }
      },
      "cell_type": "code",
      "source": [
        "def implementBoyanChain():\n",
        "\n",
        "    # initialize environment as 13-states boyan chain\n",
        "    env = BOYAN_CHAIN\n",
        "    env_width = len(BOYAN_CHAIN[0])\n",
        "    game = make_BoyanChain(BOYAN_CHAIN)\n",
        "\n",
        "    # initialize A, b, z\n",
        "    lstdparams = lstd_params()\n",
        "    lstdparams.d = 4\n",
        "\n",
        "    optimal = [-24, -16, -8, 0]\n",
        "    state_feature = [[1,    0,    0,    0   ],\n",
        "                     [0.75, 0.25, 0,    0   ],\n",
        "                     [0.5,  0.5,  0,    0   ],\n",
        "                     [0.25, 0.75, 0,    0   ],\n",
        "                     [0,    1,    0,    0   ],\n",
        "                     [0,    0.75, 0.25, 0   ],\n",
        "                     [0,    0.5,  0.5,  0   ],\n",
        "                     [0,    0.25, 0.75, 0   ],\n",
        "                     [0,    0,    1,    0   ],\n",
        "                     [0,    0,    0.75, 0.25],\n",
        "                     [0,    0,    0.5,  0.5 ],\n",
        "                     [0,    0,    0.25, 0.75],\n",
        "                     [0,    0,    0,    0   ]]\n",
        "\n",
        "    theta, rms = lstd_recursive(lstdparams, state_feature, optimal)\n",
        "    print(theta)\n",
        "    print('rms:{}.'.format(rms))\n",
        "    plt.figure(2)\n",
        "    plt.plot(range(0, lstdparams.n), rms[:])\n",
        "    plt.xlabel('trajectory number')\n",
        "    plt.ylabel('RMS error')"
      ],
      "execution_count": 0,
      "outputs": []
    },
    {
      "metadata": {
        "id": "So0RlpuINCTv",
        "colab_type": "code",
        "colab": {
          "autoexec": {
            "startup": false,
            "wait_interval": 0
          },
          "output_extras": [
            {
              "item_id": 1
            },
            {
              "item_id": 2
            }
          ],
          "base_uri": "https://localhost:8080/",
          "height": 395
        },
        "outputId": "a8867dec-c5a1-4c70-ced2-3716bae163f6",
        "executionInfo": {
          "status": "ok",
          "timestamp": 1521495601699,
          "user_tz": 240,
          "elapsed": 4589,
          "user": {
            "displayName": "Jianing Sun",
            "photoUrl": "https://lh3.googleusercontent.com/a/default-user=s128",
            "userId": "108422348468847234457"
          }
        }
      },
      "cell_type": "code",
      "source": [
        "implementBoyanChain()\n",
        "plt.show()"
      ],
      "execution_count": 20,
      "outputs": [
        {
          "output_type": "stream",
          "text": [
            "[-2.40444483e+01 -1.60734272e+01 -8.04418738e+00  1.24329563e-02]\n",
            "rms:[2.19278441 0.55357954 0.4947521  ... 0.04854852 0.04883011 0.04866805].\n"
          ],
          "name": "stdout"
        },
        {
          "output_type": "display_data",
          "data": {
            "image/png": "[encoded data removed]",
            "text/plain": [
              "<matplotlib.figure.Figure at 0x7f58ced995f8>"
            ]
          },
          "metadata": {
            "tags": []
          }
        }
      ]
    },
    {
      "metadata": {
        "id": "UED5tHFINOP8",
        "colab_type": "text"
      },
      "cell_type": "markdown",
      "source": [
        "For recursive LSTD(lambda), it will also find the optimal theta after 3000 independent trajectories. Final theta is [-2.40444483e+01 -1.60734272e+01 -8.04418738e+00  1.24329563e-02]. The RMS figure above indicates that recursive is more instable compared with off-line LSTD algorithm. During first 500 trajectories, recursive LSTD has some vibrations."
      ]
    },
    {
      "metadata": {
        "id": "ozQ5pgMzN0bM",
        "colab_type": "code",
        "colab": {
          "autoexec": {
            "startup": false,
            "wait_interval": 0
          }
        }
      },
      "cell_type": "code",
      "source": [
        ""
      ],
      "execution_count": 0,
      "outputs": []
    },
    {
      "metadata": {
        "id": "4DiFr5AgN69Z",
        "colab_type": "text"
      },
      "cell_type": "markdown",
      "source": [
        "### 2. Five-States Experiments\n",
        "### 2.1 Environment"
      ]
    },
    {
      "metadata": {
        "id": "r6PWOC3QOAta",
        "colab_type": "code",
        "colab": {
          "autoexec": {
            "startup": false,
            "wait_interval": 0
          }
        }
      },
      "cell_type": "code",
      "source": [
        "class PlayerSprite_FiveStates(prefab_sprites.MazeWalker):\n",
        "\n",
        "    def __init__(self, corner, position, character):\n",
        "        super(PlayerSprite_FiveStates, self).__init__(corner, position, character, impassable='#')\n",
        "\n",
        "        self.transition_matrix = np.array([\n",
        "            [0.42, 0.13, 0.14, 0.03, 0.28],\n",
        "            [0.25, 0.08, 0.16, 0.35, 0.15],\n",
        "            [0.08, 0.20, 0.33, 0.17, 0.22],\n",
        "            [0.36, 0.05, 0.00, 0.51, 0.07],\n",
        "            [0.17, 0.24, 0.19, 0.18, 0.22]\n",
        "        ])\n",
        "\n",
        "        self.reward_matrix = np.array([\n",
        "            [104.66, 29.69, 82.36, 37.49, 68.82],\n",
        "            [75.86, 29.24, 100.37, 0.31, 35.99],\n",
        "            [57.68, 65.66, 56.95, 100.44, 47.63],\n",
        "            [96.23, 14.01, 0.88, 89.77, 66.77],\n",
        "            [70.35, 23.69, 73.41, 70.70, 85.41]\n",
        "        ])\n",
        "\n",
        "    def update(self, actions, board, layers, backdrop, things, the_plot):\n",
        "        del backdrop, things  # Unused.\n",
        "        _, position = self.position\n",
        "\n",
        "        if actions == 0:  \n",
        "            new_position = np.argmax(np.random.multinomial(n=1, pvals=self.transition_matrix[position, :]))\n",
        "            the_plot.add_reward(self.reward_matrix[position, new_position])\n",
        "\n",
        "            self._teleport((0, new_position))"
      ],
      "execution_count": 0,
      "outputs": []
    },
    {
      "metadata": {
        "id": "-EzohNiQOK0z",
        "colab_type": "code",
        "colab": {
          "autoexec": {
            "startup": false,
            "wait_interval": 0
          }
        }
      },
      "cell_type": "code",
      "source": [
        "def make_FiveStates(art):\n",
        "    return ascii_art.ascii_art_to_game(art, what_lies_beneath=' ', sprites={'P': PlayerSprite_FiveStates})\n"
      ],
      "execution_count": 0,
      "outputs": []
    },
    {
      "metadata": {
        "id": "k85QmjQZOOUs",
        "colab_type": "text"
      },
      "cell_type": "markdown",
      "source": [
        "### 2.2 Off-line LSTD(lambda) Experiment"
      ]
    },
    {
      "metadata": {
        "id": "KJo4dyQ_OSPP",
        "colab_type": "code",
        "colab": {
          "autoexec": {
            "startup": false,
            "wait_interval": 0
          }
        }
      },
      "cell_type": "code",
      "source": [
        "def lstd_offline_five_states(lstdparams, state_feature, threshold=0.01):\n",
        "    A = np.eye(lstdparams.d)\n",
        "    b = np.zeros(lstdparams.d)\n",
        "    diff = 1.0\n",
        "    last_theta = 0\n",
        "    t = 0\n",
        "    x = 0\n",
        "    z = state_feature[0]\n",
        "    game = make_FiveStates(FIVE_STATES)\n",
        "    game.its_showtime()\n",
        "    while diff >= threshold:\n",
        "        t += 1\n",
        "        obs, reward, gamma = game.play(0)\n",
        "        state_array = np.array(obs.layers['P'], dtype=int)\n",
        "        _x = list(state_array[0]).index(1)\n",
        "        # lstd update\n",
        "        A += np.outer(z, (np.array(state_feature[x])\n",
        "                            - lstdparams.gamma * np.array(state_feature[_x])).T)\n",
        "        b += np.array(z) * reward\n",
        "        _z = lstdparams.la * np.array(z) + state_feature[_x]\n",
        "        x = _x\n",
        "        z = _z\n",
        "        theta = np.dot(np.linalg.pinv(A), b)\n",
        "        diff = np.sqrt(np.sum((theta - last_theta)*(theta - last_theta)))\n",
        "        last_theta = theta\n",
        "    theta = np.dot(np.linalg.pinv(A), b)\n",
        "    return theta, t"
      ],
      "execution_count": 0,
      "outputs": []
    },
    {
      "metadata": {
        "id": "k1L1umBoOVZ9",
        "colab_type": "code",
        "colab": {
          "autoexec": {
            "startup": false,
            "wait_interval": 0
          }
        }
      },
      "cell_type": "code",
      "source": [
        "def implementFiveStates():\n",
        "    # initialize A, b, z\n",
        "    lstdparams = lstd_params()\n",
        "    lstdparams.d = 5\n",
        "    state_feature = [[74.29, 34.61, 73.48, 53.29, 7.79 ],\n",
        "                     [61.60, 48.07, 34.68, 36.19, 82.02],\n",
        "                     [97.00, 4.88,  8.51,  87.89, 5.17 ],\n",
        "                     [41.10, 40.13, 64.63, 92.67, 31.09],\n",
        "                     [7.76,  79.82, 43.78, 8.56,  61.11]]\n",
        "\n",
        "    theta, timestep = lstd_offline_five_states(lstdparams, state_feature)\n",
        "    print(\"theta: \", theta)\n",
        "    print(\"timestep: \", timestep)"
      ],
      "execution_count": 0,
      "outputs": []
    },
    {
      "metadata": {
        "id": "2yPtavuIOXv7",
        "colab_type": "code",
        "colab": {
          "autoexec": {
            "startup": false,
            "wait_interval": 0
          },
          "output_extras": [
            {
              "item_id": 1
            }
          ],
          "base_uri": "https://localhost:8080/",
          "height": 51
        },
        "outputId": "2cf0fc04-20e9-4a39-cc5b-3e206f9b8478",
        "executionInfo": {
          "status": "ok",
          "timestamp": 1521496076471,
          "user_tz": 240,
          "elapsed": 259,
          "user": {
            "displayName": "Jianing Sun",
            "photoUrl": "https://lh3.googleusercontent.com/a/default-user=s128",
            "userId": "108422348468847234457"
          }
        }
      },
      "cell_type": "code",
      "source": [
        "FIVE_STATES = ['P    ']\n",
        "implementFiveStates()"
      ],
      "execution_count": 42,
      "outputs": [
        {
          "output_type": "stream",
          "text": [
            "theta:  [ 3.90454942  9.01775954 -1.01249165  2.72396132 -1.1541132 ]\n",
            "timestep:  64\n"
          ],
          "name": "stdout"
        }
      ]
    },
    {
      "metadata": {
        "id": "Mn84c0IaPYH-",
        "colab_type": "text"
      },
      "cell_type": "markdown",
      "source": [
        "After 64 timesteps, the difference between successive theta is less than 0.01. Then I stop and output current theta, which is [ 3.90454942  9.01775954 -1.01249165  2.72396132 -1.1541132 ]. "
      ]
    },
    {
      "metadata": {
        "id": "lQT4vx3zPlhj",
        "colab_type": "text"
      },
      "cell_type": "markdown",
      "source": [
        "### 2.3 Recursive LSTD(lambda) Experiment"
      ]
    },
    {
      "metadata": {
        "id": "vtR2Tp7uPqAg",
        "colab_type": "code",
        "colab": {
          "autoexec": {
            "startup": false,
            "wait_interval": 0
          }
        }
      },
      "cell_type": "code",
      "source": [
        "def lstd_recursive_five_states(lstdparams, state_feature, threshold=0.01):\n",
        "    A_re = np.eye(lstdparams.d) / lstdparams.epsilon\n",
        "    b = np.zeros(lstdparams.d)\n",
        "    diff = 1.0\n",
        "    last_theta = 0\n",
        "    t = 0\n",
        "    s = 0\n",
        "    x = state_feature[s]\n",
        "    z = x\n",
        "    game = make_FiveStates(FIVE_STATES)\n",
        "    game.its_showtime()\n",
        "    while diff >= threshold:\n",
        "        t += 1\n",
        "        obs, reward, gamma = game.play(0)\n",
        "        state_array = np.array(obs.layers['P'], dtype=int)\n",
        "        _s = list(state_array[0]).index(1)\n",
        "        _x = state_feature[_s]\n",
        "        v = np.dot(A_re.T, (np.array(x) - lstdparams.gamma * np.array(_x))).reshape(lstdparams.d, 1)\n",
        "        A_re -= A_re @ np.array(z).reshape(lstdparams.d, 1) @ v.T / (1 + v.T @ z)\n",
        "        b += np.array(z) * reward\n",
        "        theta = np.dot(A_re, b)\n",
        "        diff = np.sqrt(np.sum((theta - last_theta) * (theta - last_theta)))\n",
        "        last_theta = theta\n",
        "        z = lstdparams.la * np.array(z) + _x\n",
        "        s = _s\n",
        "        x = _x\n",
        "\n",
        "    theta = np.dot(A_re, b)\n",
        "    return theta, t"
      ],
      "execution_count": 0,
      "outputs": []
    },
    {
      "metadata": {
        "id": "nw1wabJ8PtWM",
        "colab_type": "code",
        "colab": {
          "autoexec": {
            "startup": false,
            "wait_interval": 0
          }
        }
      },
      "cell_type": "code",
      "source": [
        "def implementFiveStates():\n",
        "    # initialize A, b, z\n",
        "    lstdparams = lstd_params()\n",
        "    lstdparams.d = 5\n",
        "    state_feature = [[74.29, 34.61, 73.48, 53.29, 7.79 ],\n",
        "                     [61.60, 48.07, 34.68, 36.19, 82.02],\n",
        "                     [97.00, 4.88,  8.51,  87.89, 5.17 ],\n",
        "                     [41.10, 40.13, 64.63, 92.67, 31.09],\n",
        "                     [7.76,  79.82, 43.78, 8.56,  61.11]]\n",
        "    theta, timestep = lstd_recursive_five_states(lstdparams, state_feature)\n",
        "    print(\"theta: \", theta)\n",
        "    print(\"timestep: \", timestep)"
      ],
      "execution_count": 0,
      "outputs": []
    },
    {
      "metadata": {
        "id": "6cUhdpcQPy17",
        "colab_type": "code",
        "colab": {
          "autoexec": {
            "startup": false,
            "wait_interval": 0
          },
          "output_extras": [
            {
              "item_id": 1
            }
          ],
          "base_uri": "https://localhost:8080/",
          "height": 51
        },
        "outputId": "8e5cb79e-fad1-41e9-b2d4-d1d4b7bd3f58",
        "executionInfo": {
          "status": "ok",
          "timestamp": 1521496322463,
          "user_tz": 240,
          "elapsed": 457,
          "user": {
            "displayName": "Jianing Sun",
            "photoUrl": "https://lh3.googleusercontent.com/a/default-user=s128",
            "userId": "108422348468847234457"
          }
        }
      },
      "cell_type": "code",
      "source": [
        "implementFiveStates()"
      ],
      "execution_count": 47,
      "outputs": [
        {
          "output_type": "stream",
          "text": [
            "theta:  [ 3.72479157  7.21085883 -0.44565411  2.1590347  -0.7087387 ]\n",
            "timestep:  29\n"
          ],
          "name": "stdout"
        }
      ]
    },
    {
      "metadata": {
        "id": "wvrGMtK6P14I",
        "colab_type": "code",
        "colab": {
          "autoexec": {
            "startup": false,
            "wait_interval": 0
          }
        }
      },
      "cell_type": "code",
      "source": [
        ""
      ],
      "execution_count": 0,
      "outputs": []
    },
    {
      "metadata": {
        "id": "K7hZfZW7QFDV",
        "colab_type": "text"
      },
      "cell_type": "markdown",
      "source": [
        "### 3. Read the section “Equivalence of LSTD(1) and linear regression” in the appendix of Boyan’s paper. Verify this claim empirically by computing the matrices A and b in the “supervised learning” approach. Compare the matrices with those that you would have obtained by LSTD(lambda=1) in part 1 and 2. Check if the solution (value function) found by the “supervised learning” approach matches the solution found by LSTD."
      ]
    },
    {
      "metadata": {
        "id": "UwC0jmtDi_Bn",
        "colab_type": "text"
      },
      "cell_type": "markdown",
      "source": [
        "### 3.1 Off-line LSTD"
      ]
    },
    {
      "metadata": {
        "id": "4Qk8uG2SQMAZ",
        "colab_type": "code",
        "colab": {
          "autoexec": {
            "startup": false,
            "wait_interval": 0
          }
        }
      },
      "cell_type": "code",
      "source": [
        " def equivalence_offline(lstdparams, state_feature):\n",
        "    A = np.zeros((lstdparams.d, lstdparams.d))\n",
        "    b = np.zeros(lstdparams.d)\n",
        "    print(lstdparams.la)\n",
        "    terminal_state = 12\n",
        "    x = 0\n",
        "    z = state_feature[0]\n",
        "    game = make_BoyanChain(BOYAN_CHAIN)\n",
        "    game.its_showtime()\n",
        "    LR_feature = list()\n",
        "    LR_reward = list()\n",
        "    while x is not terminal_state:\n",
        "        obs, reward, gamma = game.play(0)\n",
        "        state_array = np.array(obs.layers['P'], dtype=int)\n",
        "        _x = list(state_array[0]).index(1)\n",
        "        LR_feature.append(state_feature[x])\n",
        "        LR_reward.append(reward)\n",
        "        A += np.outer(z, (np.array(state_feature[x])\n",
        "                          - lstdparams.gamma * np.array(state_feature[_x])).T)\n",
        "        b += np.array(z) * reward\n",
        "        _z = lstdparams.la * np.array(z) + state_feature[_x]\n",
        "        x = _x\n",
        "        z = _z\n",
        "    return LR_feature, LR_reward, A, b"
      ],
      "execution_count": 0,
      "outputs": []
    },
    {
      "metadata": {
        "id": "_ORx_xNGcI4K",
        "colab_type": "code",
        "colab": {
          "autoexec": {
            "startup": false,
            "wait_interval": 0
          },
          "output_extras": [
            {
              "item_id": 1
            }
          ],
          "base_uri": "https://localhost:8080/",
          "height": 343
        },
        "outputId": "524f1a18-8db0-4923-9fda-dee6a29edc45",
        "executionInfo": {
          "status": "ok",
          "timestamp": 1521500461480,
          "user_tz": 240,
          "elapsed": 339,
          "user": {
            "displayName": "Jianing Sun",
            "photoUrl": "https://lh3.googleusercontent.com/a/default-user=s128",
            "userId": "108422348468847234457"
          }
        }
      },
      "cell_type": "code",
      "source": [
        "state_feature = [[1, 0, 0, 0],\n",
        "                     [0.75, 0.25, 0, 0],\n",
        "                     [0.5, 0.5, 0, 0],\n",
        "                     [0.25, 0.75, 0, 0],\n",
        "                     [0, 1, 0, 0],\n",
        "                     [0, 0.75, 0.25, 0],\n",
        "                     [0, 0.5, 0.5, 0],\n",
        "                     [0, 0.25, 0.75, 0],\n",
        "                     [0, 0, 1, 0],\n",
        "                     [0, 0, 0.75, 0.25],\n",
        "                     [0, 0, 0.5, 0.5],\n",
        "                     [0, 0, 0.25, 0.75],\n",
        "                     [0, 0, 0, 0]]\n",
        "\n",
        "lstdparams = lstd_params()\n",
        "lstdparams.d = 4\n",
        "lstdparams.la = 1\n",
        "LR_feature, LR_reward, A, b = equivalence_offline(lstdparams, state_feature)\n",
        "LR_A = np.zeros((lstdparams.d, lstdparams.d))\n",
        "LR_y = np.zeros(len(LR_feature))\n",
        "LR_b = np.zeros(lstdparams.d)\n",
        "print(\"LR_feature: {}.\".format(LR_feature))\n",
        "print(\"LR_reward: {}.\".format(LR_reward))\n",
        "print(\"\")\n",
        "\n",
        "for i in range(0, len(LR_feature)):\n",
        "    LR_A += LR_feature[i] * np.array(LR_feature[i]).reshape(lstdparams.d, 1)\n",
        "    LR_y[i] = np.sum(LR_reward[i:])\n",
        "    LR_b += np.array(LR_feature[i], dtype=float) * LR_y[i]\n",
        "\n",
        "print(\"Result from linear regression:\")\n",
        "print(\"linear regression y: {}.\".format(LR_y))\n",
        "print(\"linear regression matrix A: {}.\".format(LR_A))\n",
        "print(\"linear regression matrix b: {}.\".format(LR_b))\n",
        "print(\"\")\n",
        "print(\"Result from off-line LSTD(lambda=1):\")\n",
        "print(\"LSTD matrix A: {}.\".format(A))\n",
        "print(\"LSTD matrix b: {}.\".format(b))"
      ],
      "execution_count": 65,
      "outputs": [
        {
          "output_type": "stream",
          "text": [
            "1\n",
            "LR_feature: [[1, 0, 0, 0], [0.5, 0.5, 0, 0], [0, 1, 0, 0], [0, 0.5, 0.5, 0], [0, 0, 1, 0], [0, 0, 0.75, 0.25], [0, 0, 0.25, 0.75]].\n",
            "LR_reward: [-3.0, -3.0, -3.0, -3.0, -3.0, -3.0, -2.0].\n",
            "\n",
            "Result from linear regression:\n",
            "linear regression y: [-20. -17. -14. -11.  -8.  -5.  -2.].\n",
            "linear regression matrix A: [[1.25  0.25  0.    0.   ]\n",
            " [0.25  1.5   0.25  0.   ]\n",
            " [0.    0.25  1.875 0.375]\n",
            " [0.    0.    0.375 0.625]].\n",
            "linear regression matrix b: [-28.5  -28.   -17.75  -2.75].\n",
            "\n",
            "Result from off-line LSTD(lambda=1):\n",
            "LSTD matrix A: [[1.25  0.25  0.    0.   ]\n",
            " [0.25  1.5   0.25  0.   ]\n",
            " [0.    0.25  1.875 0.375]\n",
            " [0.    0.    0.375 0.625]].\n",
            "LSTD matrix b: [-28.5  -28.   -17.75  -2.75].\n"
          ],
          "name": "stdout"
        }
      ]
    },
    {
      "metadata": {
        "id": "5RyfMqCTfUOu",
        "colab_type": "text"
      },
      "cell_type": "markdown",
      "source": [
        "From above results it is clear that the results of matrix A and b from linear regression and off-line LSTD(lambda) are exactly the same."
      ]
    },
    {
      "metadata": {
        "id": "tozbIi99jKib",
        "colab_type": "text"
      },
      "cell_type": "markdown",
      "source": [
        "### 3.2 Recursive LSTD"
      ]
    },
    {
      "metadata": {
        "id": "CkQDCVoUjQV3",
        "colab_type": "code",
        "colab": {
          "autoexec": {
            "startup": false,
            "wait_interval": 0
          }
        }
      },
      "cell_type": "code",
      "source": [
        "def equivalence_recursive(lstdparams, state_feature):\n",
        "    A_re = np.eye(lstdparams.d)\n",
        "    A = np.zeros((lstdparams.d, lstdparams.d))\n",
        "    b = np.zeros(lstdparams.d)\n",
        "    terminal_state = 12\n",
        "    LR_feature = list()\n",
        "    LR_reward = list()\n",
        "\n",
        "    s = 0\n",
        "    x = state_feature[s]\n",
        "    z = x\n",
        "    game = make_BoyanChain(BOYAN_CHAIN)\n",
        "    game.its_showtime()\n",
        "    while s is not terminal_state:\n",
        "        obs, reward, gamma = game.play(0)\n",
        "        state_array = np.array(obs.layers['P'], dtype=int)\n",
        "        _s = list(state_array[0]).index(1)\n",
        "        _x = state_feature[_s]\n",
        "        LR_feature.append(state_feature[s])\n",
        "        LR_reward.append(reward)\n",
        "        v = np.dot(A_re.T, (np.array(x) - lstdparams.gamma * np.array(_x))).reshape(lstdparams.d, 1)\n",
        "        A_re -= A_re @ np.array(z).reshape(lstdparams.d, 1) @ v.T / (1 + v.T @ z)\n",
        "        A += np.outer(z, (np.array(state_feature[s])\n",
        "                          - lstdparams.gamma * np.array(state_feature[_s])).T)\n",
        "        b += np.array(z) * reward\n",
        "        z = lstdparams.la * np.array(z) + _x\n",
        "        s = _s\n",
        "        x = _x\n",
        "    return LR_feature, LR_reward, A, b"
      ],
      "execution_count": 0,
      "outputs": []
    },
    {
      "metadata": {
        "id": "CeMOQsgajWtL",
        "colab_type": "code",
        "colab": {
          "autoexec": {
            "startup": false,
            "wait_interval": 0
          },
          "output_extras": [
            {
              "item_id": 1
            }
          ],
          "base_uri": "https://localhost:8080/",
          "height": 326
        },
        "outputId": "d915c664-36e0-4522-90ac-a6dfbc20d75d",
        "executionInfo": {
          "status": "ok",
          "timestamp": 1521501471137,
          "user_tz": 240,
          "elapsed": 328,
          "user": {
            "displayName": "Jianing Sun",
            "photoUrl": "https://lh3.googleusercontent.com/a/default-user=s128",
            "userId": "108422348468847234457"
          }
        }
      },
      "cell_type": "code",
      "source": [
        "LR_feature, LR_reward, A, b = equivalence_recursive(lstdparams, state_feature)\n",
        "LR_A = np.zeros((lstdparams.d, lstdparams.d))\n",
        "LR_y = np.zeros(len(LR_feature))\n",
        "LR_b = np.zeros(lstdparams.d)\n",
        "print(\"LR_feature: {}.\".format(LR_feature))\n",
        "print(\"LR_reward: {}.\".format(LR_reward))\n",
        "print(\"\")\n",
        "\n",
        "for i in range(0, len(LR_feature)):\n",
        "    LR_A += LR_feature[i] * np.array(LR_feature[i]).reshape(lstdparams.d, 1)\n",
        "    LR_y[i] = np.sum(LR_reward[i:])\n",
        "    LR_b += np.array(LR_feature[i], dtype=float) * LR_y[i]\n",
        "\n",
        "print(\"Result from linear regression:\")\n",
        "print(\"linear regression y: {}.\".format(LR_y))\n",
        "print(\"linear regression matrix A: {}.\".format(LR_A))\n",
        "print(\"linear regression matrix b: {}.\".format(LR_b))\n",
        "print(\"\")\n",
        "print(\"Result from off-line LSTD(lambda=1):\")\n",
        "print(\"LSTD matrix A: {}.\".format(A))\n",
        "print(\"LSTD matrix b: {}.\".format(b))"
      ],
      "execution_count": 68,
      "outputs": [
        {
          "output_type": "stream",
          "text": [
            "LR_feature: [[1, 0, 0, 0], [0.75, 0.25, 0, 0], [0.25, 0.75, 0, 0], [0, 1, 0, 0], [0, 0.5, 0.5, 0], [0, 0, 1, 0], [0, 0, 0.5, 0.5]].\n",
            "LR_reward: [-3.0, -3.0, -3.0, -3.0, -3.0, -3.0, -3.0].\n",
            "\n",
            "Result from linear regression:\n",
            "linear regression y: [-21. -18. -15. -12.  -9.  -6.  -3.].\n",
            "linear regression matrix A: [[1.625 0.375 0.    0.   ]\n",
            " [0.375 1.875 0.25  0.   ]\n",
            " [0.    0.25  1.5   0.25 ]\n",
            " [0.    0.    0.25  0.25 ]].\n",
            "linear regression matrix b: [-38.25 -32.25 -12.    -1.5 ].\n",
            "\n",
            "Result from off-line LSTD(lambda=1):\n",
            "LSTD matrix A: [[1.625 0.375 0.    0.   ]\n",
            " [0.375 1.875 0.25  0.   ]\n",
            " [0.    0.25  1.5   0.25 ]\n",
            " [0.    0.    0.25  0.25 ]].\n",
            "LSTD matrix b: [-38.25 -32.25 -12.    -1.5 ].\n"
          ],
          "name": "stdout"
        }
      ]
    },
    {
      "metadata": {
        "id": "sgytS9MpjXDH",
        "colab_type": "code",
        "colab": {
          "autoexec": {
            "startup": false,
            "wait_interval": 0
          }
        }
      },
      "cell_type": "code",
      "source": [
        ""
      ],
      "execution_count": 0,
      "outputs": []
    }
  ]
}