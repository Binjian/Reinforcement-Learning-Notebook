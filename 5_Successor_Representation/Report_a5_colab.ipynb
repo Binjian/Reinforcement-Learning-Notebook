{
  "nbformat": 4,
  "nbformat_minor": 0,
  "metadata": {
    "colab": {
      "name": "Report-a5-colab.ipynb",
      "version": "0.3.2",
      "views": {},
      "default_view": {},
      "provenance": []
    },
    "kernelspec": {
      "name": "python3",
      "display_name": "Python 3"
    }
  },
  "cells": [
    {
      "metadata": {
        "id": "aDwTpYfYOoRW",
        "colab_type": "text"
      },
      "cell_type": "markdown",
      "source": [
        "## Assignment 5 - GVFs and Successor Representation\n",
        "### Jianing Sun 260791202\n",
        "### - Common Question\n",
        "**Question:** Explain how SR can be expressed in the GVF framework (also see corresponding section in S&B if necessary). Explain this connection using the GVF terminology : cumulant (this is not the notion of “moments” of a prob. distribution), termination condition, etc. "
      ]
    },
    {
      "metadata": {
        "id": "_N9ebYP8OiBd",
        "colab_type": "text"
      },
      "cell_type": "markdown",
      "source": [
        "**Answer:**  In General Value Functions (GVF), whatever signal is added up in a value-function-like prediction, we call it the *cumulant* of that prediction. Denote $C_t\\in\\mathbb{R}$ as the **cumulant** signal, and **terminal function** $\\gamma: \\mathcal{S}\\mapsto[0,1]$. Then by definition, a **general value function**, or GCF, is written \n",
        "$$v_{\\pi,\\gamma,C(s)}=\\mathbb{E}\\big[\\sum\\limits_{k=t}^{\\infty}C_{k+1}\\prod\\limits_{i=t+1}^{k}\\gamma(S_i)\\big|S_t=s,A_{t:\\infty}\\sim\\pi\\big]$$ \n",
        "Different choices of cumulant C(s) lead to different characterizations of the Markov Chian. For example, if C(s) specfies the reward received on entering state s, then $v_{\\pi,\\gamma,C(s)}$ correponds to the expected discounted future return, or value, the standard target of RL.\n",
        "In the context of successor representation (SR), successor representation can be expressed as part of the GVF framework as this way: \n",
        "$$v_{\\pi,\\gamma,C(s)}=\\sum\\limits_{s'\\in\\mathcal{S}}\\phi_{\\pi}(s,s')C(s)$$\n",
        "where $\\phi_\\pi$ is the successor representation (SR), which **encodes the expected discounted future visitations of each state s' along trajectories originating in state s.**"
      ]
    },
    {
      "metadata": {
        "id": "gtFgdIs0Ooba",
        "colab_type": "text"
      },
      "cell_type": "markdown",
      "source": [
        ""
      ]
    },
    {
      "metadata": {
        "id": "nlGB-2gPOokQ",
        "colab_type": "text"
      },
      "cell_type": "markdown",
      "source": [
        ""
      ]
    },
    {
      "metadata": {
        "id": "OAukXZmNOjmd",
        "colab_type": "code",
        "colab": {
          "autoexec": {
            "startup": false,
            "wait_interval": 0
          }
        }
      },
      "cell_type": "code",
      "source": [
        ""
      ],
      "execution_count": 0,
      "outputs": []
    }
  ]
}