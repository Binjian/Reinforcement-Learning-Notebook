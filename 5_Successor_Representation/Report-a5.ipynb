{
 "cells": [
  {
   "cell_type": "markdown",
   "metadata": {},
   "source": [
    "## Assignment 5 - GVFs and Successor Representation\n",
    "### Jianing Sun 260791202"
   ]
  },
  {
   "cell_type": "markdown",
   "metadata": {},
   "source": [
    "### - Common Question\n",
    "**Question:** Explain how SR can be expressed in the GVF framework (also see corresponding section in S&B if necessary). Explain this connection using the GVF terminology : cumulant (this is not the notion of “moments” of a prob. distribution), termination condition, etc. "
   ]
  },
  {
   "cell_type": "markdown",
   "metadata": {},
   "source": [
    "**Answer:** In General Value Functions (GVF), whatever signal is added up in a value-function-like prediction, we call it the *cumulant* of that prediction. Denote $C_t\\in\\mathbb{R}$ as the **cumulant** signal, and **terminal function** $\\gamma: \\mathcal{S}\\mapsto[0,1]$. Then by definition, a **general value function**, or GCF, is written\n",
    "$$v_{\\pi,\\gamma,C(s)}=\\mathbb{E}\\big[\\sum\\limits_{k=t}^{\\infty}C_{k+1}\\prod\\limits_{i=t+1}^{k}\\gamma(S_i)\\big|S_t=s,A_{t:\\infty}\\sim\\pi\\big]$$ \n",
    "Different choices of cumulant C(s) lead to different characterizations of the Markov Chian. For example, if C(s) specfies the reward received on entering state s, then $v_{\\pi,\\gamma,C(s)}$ correponds to the expected discounted future return, or value, the standard target of RL.\n",
    "In the context of successor representation (SR), successor representation can be expressed as part of the GVF framework as this way: \n",
    "$$v_{\\pi,\\gamma,C(s)}=\\sum\\limits_{s'\\in\\mathcal{S}}\\phi_{\\pi}(s,s')C(s)$$\n",
    "where $\\phi_\\pi$ is the successor representation (SR), which **encodes the expected discounted future visitations of each state s' along trajectories originating in state s.**\n",
    "\n",
    "---"
   ]
  },
  {
   "cell_type": "markdown",
   "metadata": {},
   "source": [
    "### - Trace 1\n",
    "### 1. Starting from the definition of above, derive Bellman equations for phi_pi. Note : phi_\\pi(s) has essentially the meaning of a “value function”."
   ]
  },
  {
   "cell_type": "markdown",
   "metadata": {},
   "source": [
    "$ \\begin{split} \n",
    "\\phi_\\pi(s)=e_s^T(I-\\gamma P_\\pi)^{-1}=e_s^T\\sum\\limits_{t=0}^\\infty\\gamma^tP_\\pi \n",
    "=\\mathbb{E}\\big[e_s^T\\sum\\limits_{t=0}^\\infty\\gamma^t\\big]\n",
    "\\end{split} $"
   ]
  },
  {
   "cell_type": "markdown",
   "metadata": {},
   "source": [
    "$\\begin{split} \n",
    "\\Rightarrow \\phi_\\pi(s)&=\\mathbb{E}\\big[\\sum\\limits_{t=0}^{\\infty}\\gamma^t\\mathbb{1}[S_{t+1}=s']\\big|S_o=s\\big] \\\\\n",
    "&=\\mathbb{E}\\big[\\mathbb{1}[S_1=s']+\\sum\\limits_{t=1}^\\infty\\gamma^t\\mathbb{1}[S_{t+1}=s']\\big|S_0=s\\big] \\\\\n",
    "&=\\mathbb{E}\\big[\\mathbb{1}[S_1=s']+\\sum\\limits_{t=0}^\\infty\\gamma^{t+1}\\mathbb{1}[S_{1+t+1}=s']\\big|S_0=s\\big] \\\\\n",
    "&=\\mathbb{E}\\big[\\mathbb{1}[S_1=s']+\\gamma\\sum\\limits_{t=1}^\\infty\\gamma^{t}\\mathbb{1}[S_{1+t+1}=s']\\big|S_0=s\\big] \\\\\n",
    "&=\\mathbb{E}\\big[\\mathbb{1}[S_1=s']+\\gamma\\phi_\\pi(S1)\\big|S_0=s\\big] \\\\\n",
    "\\end{split} $"
   ]
  },
  {
   "cell_type": "markdown",
   "metadata": {},
   "source": [
    "where $\\mathbb{1}[\\cdot=\\cdot]$ is an indicator whose value is 1 if its argument is true and 0 otherwise. In other reference [paper](https://papers.nips.cc/paper/5340-design-principles-of-the-hippocampal-cognitive-map.pdf), they usually denote successor representation (SR) with two parameters as M(s,s'), where s' indicates all the other states $\\in$ S along the trajectory originating at state s. Therefore in our assignment, $\\phi_\\pi(s)\\equiv\\phi_\\pi(s,s')$, that means s' is given thus we do not need to marginalize over s' for next step derivation of the successor representation's Bellman Equation. We only need to marginalize over S1:"
   ]
  },
  {
   "cell_type": "markdown",
   "metadata": {},
   "source": [
    "$\n",
    "\\begin{split}\n",
    "\\phi_\\pi(s)&=\\sum\\limits_{s1}T_{s,s_1}\\big[\\mathbb{1}[s_1=s']+\\gamma\\phi_\\pi(S1)\\big] \\\\\n",
    "&=\\sum\\limits_aP(s_1|s,a)\\sum\\limits_a\\pi(a|s)\\big[\\mathbb{1}[s_1=s']+\\gamma\\phi_\\pi(s_1)\\big] \\\\\n",
    "&=\\sum\\limits_a\\pi(a|s)\\big[\\sum\\limits_{s_1}P(s_1|s,a)\\mathbb{1}[s_1=s']+\\gamma\\sum\\limits_{s_1}P(s_1|s,a)\\phi_\\pi(s_1)\\big]\n",
    "\\end{split}\n",
    "$"
   ]
  },
  {
   "cell_type": "markdown",
   "metadata": {},
   "source": [
    "### 2. Derive Bellman equations for state and action dependent phi_\\pi(s,a). Let’s call this psi_\\pi(s,a) to avoid using the same notation. You can now think of psi_\\pi(s,a) as your “Q_\\pi(s,a)” and where the “rewards” are vector-valued."
   ]
  },
  {
   "cell_type": "markdown",
   "metadata": {},
   "source": [
    "**Answer:** \n",
    "\n",
    "$\n",
    "\\begin{split}\n",
    "\\phi_\\pi(s,s',a)&=\\mathbb{E}\\big[\\sum\\limits_{t=0}^\\infty\\mathbb{1}[s_{t+1}=s']\\big|S_0=s, A_0=a\\big]\\\\\n",
    "&=\\sum\\limits_{s_1}P(s_1\\big|s,a)\\big[\\mathbb{1}[s_1=s']+\\gamma\\phi_\\pi(s_1)\\big] \\\\\n",
    "\\end{split}\n",
    "$"
   ]
  },
  {
   "cell_type": "markdown",
   "metadata": {
    "collapsed": true
   },
   "source": [
    "$\n",
    "\\begin{split}\n",
    "\\psi^\\pi(s,a)&=\\sum\\limits_{s'\\in S}\\phi_\\pi(s,s',a)R(s') \\\\\n",
    "&=\\sum\\limits_{s'}\\sum\\limits_{s_1}P(s_1\\big|s,a)\\big[\\mathbb{1}[s_1=s']+\\gamma\\phi_\\pi(s_1)\\big]R(s')\n",
    "\\end{split}\n",
    "$"
   ]
  },
  {
   "cell_type": "markdown",
   "metadata": {},
   "source": [
    "### 3. Show that the “Bellman operator” underlying the evaluation equations in 1. is indeed a contraction. "
   ]
  },
  {
   "cell_type": "markdown",
   "metadata": {},
   "source": [
    "$$\\phi_\\pi(s,s')=\\sum\\limits_a\\pi(a|s)\\big[\\sum\\limits_{s_1}P(s_1\\big|s,a)\\mathbb{1}[s_1=s']+\\gamma\\sum\\limits_{s_1}P(s_1|s,a)\\phi_\\pi(s_1)\\big]$$"
   ]
  },
  {
   "cell_type": "markdown",
   "metadata": {},
   "source": [
    "$$ \\forall s, \\phi_{k+1}(s) \\leftarrow \\sum\\limits_a\\pi(a|s)\\big(\\sum\\limits_{s1}P(s_{1}\\big|s,a)\\mathbb{1}[s_1=s']+\\gamma\\sum\\limits_{s_1}P(s_1\\big|s,a)\\phi_k(s_1)\\big) $$"
   ]
  },
  {
   "cell_type": "markdown",
   "metadata": {},
   "source": [
    "$\\begin{split}\n",
    "\\phi_{k+1}(s)-\\phi_\\pi(s)&=\\sum\\limits_a\\pi(a|s)\\sum\\limits_{s_1}P(s_1\\big|s,a)\\mathbb{1}[s_1=s']+\\sum\\limits_a\\pi(s|a)\\gamma\\sum\\limits_{s_1}P(s_1\\big|s,a)\\phi_k(s_1)\\\\\n",
    "&-\\sum\\limits_a\\pi(a|s)\\sum\\limits_{s_1}P(s_1\\big|s,a)\\mathbb{1}[s_1=s']+\\sum\\limits_a\\pi(s|a)\\gamma\\sum\\limits_{s_1}P(s_1\\big|s,a)\\phi_\\pi(s_1)\\\\\n",
    "&=\\gamma\\sum\\limits_a\\pi(a|s)\\sum\\limits_{s_1}P(s_1\\big|s,a)\\big[\\phi_l(s_1)-\\phi_\\pi(s_1)\\big] \\\\\n",
    "&\\leq\\gamma\\sum\\limits_a\\pi(a|s)\\sum\\limits_{s_1}P(s_1\\big|s,a)\\max\\limits_{s_1}\\big[\\phi_l(s_1)-\\phi_\\pi(s_1)\\big]\n",
    "\\end{split}$"
   ]
  },
  {
   "cell_type": "markdown",
   "metadata": {},
   "source": [
    "denote $\\varepsilon_{k+1}(s)=\\phi_{k+1}(s)-\\phi_\\pi(s)$\n",
    "$$\\varepsilon_k(s)=\\big|\\big|\\phi_k(s)-\\phi_\\pi(s)\\big|\\big|_{k\\rightarrow\\infty}$$"
   ]
  },
  {
   "cell_type": "markdown",
   "metadata": {},
   "source": [
    "Hence, \n",
    "\n",
    "$\\begin{split}\n",
    "\\phi_{k+1}(s)-\\phi_\\pi(s)&\\leq\\gamma\\sum\\limits_a\\pi(a|s)\\sum\\limits_{s_1}P(s_1\\big|s,a)\\max\\limits_{s_1}\\big[\\phi_l(s_1)-\\phi_\\pi(s_1)\\big] \\\\\n",
    "&\\leq\\gamma\\varepsilon_k\\sum\\limits_a\\pi(a|s)\\sum\\limits_{s_1}P(s_1\\big|s,a)\\\\\n",
    "&\\leq\\gamma\\varepsilon_k\n",
    "\\end{split}$"
   ]
  },
  {
   "cell_type": "markdown",
   "metadata": {},
   "source": [
    "That is $\\varepsilon_{k+1}\\leq\\gamma\\epsilon_k$, and $\\gamma \\in (0,1)$\n",
    "\n",
    "$$\\Rightarrow \\varepsilon_{k+1}\\leq\\gamma^k\\varepsilon_0 \\stackrel{k\\rightarrow\\infty}{\\longrightarrow}0$$\n",
    "\n",
    "Therefore, it is indeed a contraction Bellman operator."
   ]
  },
  {
   "cell_type": "markdown",
   "metadata": {},
   "source": []
  },
  {
   "cell_type": "markdown",
   "metadata": {},
   "source": []
  },
  {
   "cell_type": "markdown",
   "metadata": {},
   "source": []
  }
 ],
 "metadata": {
  "kernelspec": {
   "display_name": "Python 3",
   "language": "python",
   "name": "python3"
  },
  "language_info": {
   "codemirror_mode": {
    "name": "ipython",
    "version": 3
   },
   "file_extension": ".py",
   "mimetype": "text/x-python",
   "name": "python",
   "nbconvert_exporter": "python",
   "pygments_lexer": "ipython3",
   "version": "3.6.3"
  }
 },
 "nbformat": 4,
 "nbformat_minor": 2
}
